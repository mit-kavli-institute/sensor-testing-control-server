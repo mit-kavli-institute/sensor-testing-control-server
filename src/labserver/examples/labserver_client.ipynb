{
 "cells": [
  {
   "cell_type": "markdown",
   "id": "ba9373fb",
   "metadata": {},
   "source": [
    "# Communicating with the lab server"
   ]
  },
  {
   "cell_type": "code",
   "execution_count": 1,
   "id": "631cf155",
   "metadata": {},
   "outputs": [
    {
     "name": "stdout",
     "output_type": "stream",
     "text": [
      "{\n",
      "  \"wheels\": {\n",
      "    \"fw1\": {\n",
      "      \"serial\": \"TP1296219-5150\",\n",
      "      \"connected\": true,\n",
      "      \"position\": 2,\n",
      "      \"current_filter\": \"FBH 1050-10\",\n",
      "      \"type\": \"bandpass\"\n",
      "    },\n",
      "    \"fw2\": {\n",
      "      \"serial\": \"TP1296219-5149\",\n",
      "      \"connected\": false,\n",
      "      \"position\": null,\n",
      "      \"current_filter\": null,\n",
      "      \"type\": \"bandpass\"\n",
      "    },\n",
      "    \"fw3\": {\n",
      "      \"serial\": \"150414-041498\",\n",
      "      \"connected\": true,\n",
      "      \"position\": 1,\n",
      "      \"current_filter\": \"EMPTY\",\n",
      "      \"type\": \"bandpass\"\n",
      "    },\n",
      "    \"fw4\": {\n",
      "      \"serial\": \"150824-011498\",\n",
      "      \"connected\": false,\n",
      "      \"position\": null,\n",
      "      \"current_filter\": null,\n",
      "      \"type\": \"nd\"\n",
      "    }\n",
      "  },\n",
      "  \"shutter\": {\n",
      "    \"connected\": true,\n",
      "    \"state\": \"closed\",\n",
      "    \"line\": \"FIO4\",\n",
      "    \"address\": \"ANY\"\n",
      "  },\n",
      "  \"ammeter_A\": 7.184497e-09,\n",
      "  \"offline_wheels\": [\n",
      "    \"fw2\",\n",
      "    \"fw4\"\n",
      "  ],\n",
      "  \"online_wheels\": [\n",
      "    \"fw1\",\n",
      "    \"fw3\"\n",
      "  ]\n",
      "}\n",
      "available wheels: ['fw1', 'fw3']\n"
     ]
    }
   ],
   "source": [
    "import Pyro5.api as pyro\n",
    "import json\n",
    "\n",
    "srv = pyro.Proxy(\"PYRO:LabServer@localhost:50000\")\n",
    "print(json.dumps(srv.status(), indent = 2)     )       # full snapshot\n",
    "\n",
    "print(f\"available wheels: {srv.status()['online_wheels']}\")\n",
    "\n"
   ]
  },
  {
   "cell_type": "code",
   "execution_count": null,
   "id": "4530a807",
   "metadata": {},
   "outputs": [
    {
     "name": "stdout",
     "output_type": "stream",
     "text": [
      "reading current from the ammeter\n",
      "7.711932e-09\n",
      "result: \n",
      " {\n",
      "  \"n_samples\": 10,\n",
      "  \"mean\": 7.4349581e-09,\n",
      "  \"median\": 7.391332e-09,\n",
      "  \"std\": 2.3611286116662534e-10,\n",
      "  \"samples\": [\n",
      "    7.21497e-09,\n",
      "    7.319196e-09,\n",
      "    7.54968e-09,\n",
      "    7.885529e-09,\n",
      "    7.463468e-09,\n",
      "    7.300654e-09,\n",
      "    7.149479e-09,\n",
      "    7.785156e-09,\n",
      "    7.479963e-09,\n",
      "    7.201486e-09\n",
      "  ],\n",
      "  \"times\": [\n",
      "    1753755148.4300945,\n",
      "    1753755148.670773,\n",
      "    1753755148.9106934,\n",
      "    1753755149.1481874,\n",
      "    1753755149.3902745,\n",
      "    1753755149.6307137,\n",
      "    1753755149.8640268,\n",
      "    1753755150.1108434,\n",
      "    1753755150.3420787,\n",
      "    1753755150.5904114\n",
      "  ]\n",
      "}\n"
     ]
    },
    {
     "ename": "KeyError",
     "evalue": "'time'",
     "output_type": "error",
     "traceback": [
      "\u001b[31m---------------------------------------------------------------------------\u001b[39m",
      "\u001b[31mKeyError\u001b[39m                                  Traceback (most recent call last)",
      "\u001b[36mCell\u001b[39m\u001b[36m \u001b[39m\u001b[32mIn[5]\u001b[39m\u001b[32m, line 11\u001b[39m\n\u001b[32m      9\u001b[39m \u001b[38;5;66;03m# Plot the results\u001b[39;00m\n\u001b[32m     10\u001b[39m \u001b[38;5;28;01mimport\u001b[39;00m\u001b[38;5;250m \u001b[39m\u001b[34;01mmatplotlib\u001b[39;00m\u001b[34;01m.\u001b[39;00m\u001b[34;01mpyplot\u001b[39;00m\u001b[38;5;250m \u001b[39m\u001b[38;5;28;01mas\u001b[39;00m\u001b[38;5;250m \u001b[39m\u001b[34;01mplt\u001b[39;00m\n\u001b[32m---> \u001b[39m\u001b[32m11\u001b[39m plt.plot(\u001b[43mres\u001b[49m\u001b[43m[\u001b[49m\u001b[33;43m\"\u001b[39;49m\u001b[33;43mtime\u001b[39;49m\u001b[33;43m\"\u001b[39;49m\u001b[43m]\u001b[49m, res[\u001b[33m\"\u001b[39m\u001b[33mcurrent\u001b[39m\u001b[33m\"\u001b[39m], \u001b[33m'\u001b[39m\u001b[33mo\u001b[39m\u001b[33m'\u001b[39m, label = \u001b[33m\"\u001b[39m\u001b[33mraw samples\u001b[39m\u001b[33m\"\u001b[39m)\n\u001b[32m     12\u001b[39m plt.axhline(res[\u001b[33m\"\u001b[39m\u001b[33mmean\u001b[39m\u001b[33m\"\u001b[39m], label = \u001b[33m\"\u001b[39m\u001b[33mmean\u001b[39m\u001b[33m\"\u001b[39m)\n\u001b[32m     13\u001b[39m plt.axhline(res[\u001b[33m\"\u001b[39m\u001b[33mmedian\u001b[39m\u001b[33m\"\u001b[39m], label = \u001b[33m\"\u001b[39m\u001b[33mmedian\u001b[39m\u001b[33m\"\u001b[39m)\n",
      "\u001b[31mKeyError\u001b[39m: 'time'"
     ]
    }
   ],
   "source": [
    "# Test out the ammeter\n",
    "\n",
    "print(\"reading current from the ammeter\")\n",
    "print(srv.read_current())\n",
    "\n",
    "res = srv.read_multisample(10, dt=0.1, return_arr=True)\n",
    "print(f\"result: \\n {json.dumps(res, indent=2)}\")\n",
    "\n",
    "# Plot the results\n",
    "import matplotlib.pyplot as plt\n",
    "plt.plot(res[\"times\"], res[\"current\"], 'o', label = \"raw samples\")\n",
    "plt.axhline(res[\"mean\"], label = \"mean\")\n",
    "plt.axhline(res[\"median\"], label = \"median\")\n",
    "plt.axhline(res[\"mean\"] + res[\"std\"], label = \"mean + std\")\n",
    "plt.axhline(res[\"mean\"] - res[\"std\"], label = \"mean - std\")\n",
    "plt.legend()\n",
    "plt.xlabel(\"time (s)\")\n",
    "plt.ylabel(\"current (A)\")\n",
    "plt.title(\"Ammeter Multisample Readings\")\n"
   ]
  },
  {
   "cell_type": "code",
   "execution_count": 2,
   "id": "342fe987",
   "metadata": {},
   "outputs": [
    {
     "name": "stdout",
     "output_type": "stream",
     "text": [
      "moving to 1250 nm bandpass filter\n",
      "{\n",
      "  \"serial\": \"TP1296219-5150\",\n",
      "  \"connected\": true,\n",
      "  \"position\": 4,\n",
      "  \"current_filter\": \"FBH 1250-10\",\n",
      "  \"type\": \"bandpass\"\n",
      "}\n",
      "moving to the 1050 nm bandpass filter\n",
      "{\n",
      "  \"serial\": \"TP1296219-5150\",\n",
      "  \"connected\": true,\n",
      "  \"position\": 2,\n",
      "  \"current_filter\": \"FBH 1050-10\",\n",
      "  \"type\": \"bandpass\"\n",
      "}\n"
     ]
    }
   ],
   "source": [
    "print(\"moving to 1250 nm bandpass filter\")\n",
    "srv.select_bandpass(1250)      # 1250 nm in path\n",
    "print(json.dumps(srv.wheel_status('fw1'), indent = 2))\n",
    "\n",
    "print(\"moving to the 1050 nm bandpass filter\")\n",
    "srv.select_bandpass(1050)      # 1050 nm in path\n",
    "print(json.dumps(srv.wheel_status('fw1'), indent = 2))\n"
   ]
  },
  {
   "cell_type": "code",
   "execution_count": 3,
   "id": "a7606522",
   "metadata": {},
   "outputs": [
    {
     "name": "stdout",
     "output_type": "stream",
     "text": [
      "opening the shutter\n",
      "{'connected': True, 'state': 'open', 'line': 'FIO4', 'address': 'ANY'}\n",
      "closing the shutter\n",
      "{'connected': True, 'state': 'closed', 'line': 'FIO4', 'address': 'ANY'}\n"
     ]
    }
   ],
   "source": [
    "# open and close the shutter\n",
    "print(\"opening the shutter\")\n",
    "srv.shutter(\"open\")\n",
    "print(srv.status()[\"shutter\"])\n",
    "\n",
    "print(\"closing the shutter\")\n",
    "srv.shutter(\"close\")\n",
    "print(srv.status()[\"shutter\"])"
   ]
  },
  {
   "cell_type": "code",
   "execution_count": null,
   "id": "fbf541a7",
   "metadata": {},
   "outputs": [
    {
     "ename": "KeyError",
     "evalue": "'No ND filter ≈1.0 (±0.05)'",
     "output_type": "error",
     "traceback": [
      "\u001b[31m---------------------------------------------------------------------------\u001b[39m",
      "\u001b[31mKeyError\u001b[39m                                  Traceback (most recent call last)",
      "\u001b[36mCell\u001b[39m\u001b[36m \u001b[39m\u001b[32mIn[4]\u001b[39m\u001b[32m, line 3\u001b[39m\n\u001b[32m      1\u001b[39m              \u001b[38;5;66;03m# whole-rack snapshot\u001b[39;00m\n\u001b[32m----> \u001b[39m\u001b[32m3\u001b[39m \u001b[43msrv\u001b[49m\u001b[43m.\u001b[49m\u001b[43mset_nd\u001b[49m\u001b[43m(\u001b[49m\u001b[32;43m1.0\u001b[39;49m\u001b[43m)\u001b[49m        \u001b[38;5;66;03m# moves ND wheel to the 'ND 1.0' slot\u001b[39;00m\n\u001b[32m      4\u001b[39m \u001b[38;5;28mprint\u001b[39m(srv.status())\n",
      "\u001b[36mFile \u001b[39m\u001b[32mc:\\Users\\oir-user\\Desktop\\GIT\\sensor-testing-control-server\\.conda\\Lib\\site-packages\\Pyro5\\client.py:510\u001b[39m, in \u001b[36m_RemoteMethod.__call__\u001b[39m\u001b[34m(self, *args, **kwargs)\u001b[39m\n\u001b[32m    508\u001b[39m \u001b[38;5;28;01mfor\u001b[39;00m attempt \u001b[38;5;129;01min\u001b[39;00m \u001b[38;5;28mrange\u001b[39m(\u001b[38;5;28mself\u001b[39m.__max_retries + \u001b[32m1\u001b[39m):\n\u001b[32m    509\u001b[39m     \u001b[38;5;28;01mtry\u001b[39;00m:\n\u001b[32m--> \u001b[39m\u001b[32m510\u001b[39m         \u001b[38;5;28;01mreturn\u001b[39;00m \u001b[38;5;28;43mself\u001b[39;49m\u001b[43m.\u001b[49m\u001b[43m__send\u001b[49m\u001b[43m(\u001b[49m\u001b[38;5;28;43mself\u001b[39;49m\u001b[43m.\u001b[49m\u001b[43m__name\u001b[49m\u001b[43m,\u001b[49m\u001b[43m \u001b[49m\u001b[43margs\u001b[49m\u001b[43m,\u001b[49m\u001b[43m \u001b[49m\u001b[43mkwargs\u001b[49m\u001b[43m)\u001b[49m\n\u001b[32m    511\u001b[39m     \u001b[38;5;28;01mexcept\u001b[39;00m (errors.ConnectionClosedError, errors.TimeoutError):\n\u001b[32m    512\u001b[39m         \u001b[38;5;66;03m# only retry for recoverable network errors\u001b[39;00m\n\u001b[32m    513\u001b[39m         \u001b[38;5;28;01mif\u001b[39;00m attempt >= \u001b[38;5;28mself\u001b[39m.__max_retries:\n\u001b[32m    514\u001b[39m             \u001b[38;5;66;03m# last attempt, raise the exception\u001b[39;00m\n",
      "\u001b[36mFile \u001b[39m\u001b[32mc:\\Users\\oir-user\\Desktop\\GIT\\sensor-testing-control-server\\.conda\\Lib\\site-packages\\Pyro5\\client.py:275\u001b[39m, in \u001b[36mProxy._pyroInvoke\u001b[39m\u001b[34m(self, methodname, vargs, kwargs, flags, objectId)\u001b[39m\n\u001b[32m    273\u001b[39m     \u001b[38;5;28;01mreturn\u001b[39;00m _StreamResultIterator(streamId, \u001b[38;5;28mself\u001b[39m)\n\u001b[32m    274\u001b[39m \u001b[38;5;28;01mif\u001b[39;00m msg.flags & protocol.FLAGS_EXCEPTION:\n\u001b[32m--> \u001b[39m\u001b[32m275\u001b[39m     \u001b[38;5;28;01mraise\u001b[39;00m data  \u001b[38;5;66;03m# if you see this in your traceback, you should probably inspect the remote traceback as well\u001b[39;00m\n\u001b[32m    276\u001b[39m \u001b[38;5;28;01melse\u001b[39;00m:\n\u001b[32m    277\u001b[39m     \u001b[38;5;28;01mreturn\u001b[39;00m data\n",
      "\u001b[31mKeyError\u001b[39m: 'No ND filter ≈1.0 (±0.05)'"
     ]
    }
   ],
   "source": [
    "             # whole-rack snapshot\n",
    "\n",
    "#srv.set_nd(1.0)        # moves ND wheel to the 'ND 1.0' slot\n",
    "#print(srv.status())\n"
   ]
  },
  {
   "cell_type": "code",
   "execution_count": null,
   "id": "ea31cf4a",
   "metadata": {},
   "outputs": [
    {
     "name": "stdout",
     "output_type": "stream",
     "text": [
      "reading current from the ammeter\n",
      "7.419732e-09\n"
     ]
    },
    {
     "ename": "ValueError",
     "evalue": "malformed node or string on line 2: <ast.Call object at 0x000002190C45B340>",
     "output_type": "error",
     "traceback": [
      "\u001b[31m---------------------------------------------------------------------------\u001b[39m",
      "\u001b[31mValueError\u001b[39m                                Traceback (most recent call last)",
      "\u001b[36mCell\u001b[39m\u001b[36m \u001b[39m\u001b[32mIn[5]\u001b[39m\u001b[32m, line 6\u001b[39m\n\u001b[32m      3\u001b[39m \u001b[38;5;28mprint\u001b[39m(\u001b[33m\"\u001b[39m\u001b[33mreading current from the ammeter\u001b[39m\u001b[33m\"\u001b[39m)\n\u001b[32m      4\u001b[39m \u001b[38;5;28mprint\u001b[39m(srv.read_current())\n\u001b[32m----> \u001b[39m\u001b[32m6\u001b[39m res = \u001b[43msrv\u001b[49m\u001b[43m.\u001b[49m\u001b[43mread_multisample\u001b[49m\u001b[43m(\u001b[49m\u001b[32;43m10\u001b[39;49m\u001b[43m,\u001b[49m\u001b[43m \u001b[49m\u001b[43mdt\u001b[49m\u001b[43m=\u001b[49m\u001b[32;43m0.1\u001b[39;49m\u001b[43m,\u001b[49m\u001b[43m \u001b[49m\u001b[43mreturn_arr\u001b[49m\u001b[43m=\u001b[49m\u001b[38;5;28;43;01mFalse\u001b[39;49;00m\u001b[43m)\u001b[49m\n\u001b[32m      7\u001b[39m \u001b[38;5;28mprint\u001b[39m(\u001b[33mf\u001b[39m\u001b[33m\"\u001b[39m\u001b[33mmean: \u001b[39m\u001b[38;5;132;01m{\u001b[39;00mres.mean\u001b[38;5;132;01m}\u001b[39;00m\u001b[33m, median: \u001b[39m\u001b[38;5;132;01m{\u001b[39;00mres.median\u001b[38;5;132;01m}\u001b[39;00m\u001b[33m, std: \u001b[39m\u001b[38;5;132;01m{\u001b[39;00mres.std\u001b[38;5;132;01m}\u001b[39;00m\u001b[33m\"\u001b[39m)\n",
      "\u001b[36mFile \u001b[39m\u001b[32mc:\\Users\\oir-user\\Desktop\\GIT\\sensor-testing-control-server\\.conda\\Lib\\site-packages\\Pyro5\\client.py:510\u001b[39m, in \u001b[36m_RemoteMethod.__call__\u001b[39m\u001b[34m(self, *args, **kwargs)\u001b[39m\n\u001b[32m    508\u001b[39m \u001b[38;5;28;01mfor\u001b[39;00m attempt \u001b[38;5;129;01min\u001b[39;00m \u001b[38;5;28mrange\u001b[39m(\u001b[38;5;28mself\u001b[39m.__max_retries + \u001b[32m1\u001b[39m):\n\u001b[32m    509\u001b[39m     \u001b[38;5;28;01mtry\u001b[39;00m:\n\u001b[32m--> \u001b[39m\u001b[32m510\u001b[39m         \u001b[38;5;28;01mreturn\u001b[39;00m \u001b[38;5;28;43mself\u001b[39;49m\u001b[43m.\u001b[49m\u001b[43m__send\u001b[49m\u001b[43m(\u001b[49m\u001b[38;5;28;43mself\u001b[39;49m\u001b[43m.\u001b[49m\u001b[43m__name\u001b[49m\u001b[43m,\u001b[49m\u001b[43m \u001b[49m\u001b[43margs\u001b[49m\u001b[43m,\u001b[49m\u001b[43m \u001b[49m\u001b[43mkwargs\u001b[49m\u001b[43m)\u001b[49m\n\u001b[32m    511\u001b[39m     \u001b[38;5;28;01mexcept\u001b[39;00m (errors.ConnectionClosedError, errors.TimeoutError):\n\u001b[32m    512\u001b[39m         \u001b[38;5;66;03m# only retry for recoverable network errors\u001b[39;00m\n\u001b[32m    513\u001b[39m         \u001b[38;5;28;01mif\u001b[39;00m attempt >= \u001b[38;5;28mself\u001b[39m.__max_retries:\n\u001b[32m    514\u001b[39m             \u001b[38;5;66;03m# last attempt, raise the exception\u001b[39;00m\n",
      "\u001b[36mFile \u001b[39m\u001b[32mc:\\Users\\oir-user\\Desktop\\GIT\\sensor-testing-control-server\\.conda\\Lib\\site-packages\\Pyro5\\client.py:268\u001b[39m, in \u001b[36mProxy._pyroInvoke\u001b[39m\u001b[34m(self, methodname, vargs, kwargs, flags, objectId)\u001b[39m\n\u001b[32m    266\u001b[39m \u001b[38;5;28;01mif\u001b[39;00m \u001b[38;5;28mself\u001b[39m._pyroRawWireResponse:\n\u001b[32m    267\u001b[39m     \u001b[38;5;28;01mreturn\u001b[39;00m msg\n\u001b[32m--> \u001b[39m\u001b[32m268\u001b[39m data = \u001b[43mserializer\u001b[49m\u001b[43m.\u001b[49m\u001b[43mloads\u001b[49m\u001b[43m(\u001b[49m\u001b[43mmsg\u001b[49m\u001b[43m.\u001b[49m\u001b[43mdata\u001b[49m\u001b[43m)\u001b[49m\n\u001b[32m    269\u001b[39m \u001b[38;5;28;01mif\u001b[39;00m msg.flags & protocol.FLAGS_ITEMSTREAMRESULT:\n\u001b[32m    270\u001b[39m     streamId = \u001b[38;5;28mbytes\u001b[39m(msg.annotations.get(\u001b[33m\"\u001b[39m\u001b[33mSTRM\u001b[39m\u001b[33m\"\u001b[39m, \u001b[33mb\u001b[39m\u001b[33m\"\u001b[39m\u001b[33m\"\u001b[39m)).decode()\n",
      "\u001b[36mFile \u001b[39m\u001b[32mc:\\Users\\oir-user\\Desktop\\GIT\\sensor-testing-control-server\\.conda\\Lib\\site-packages\\Pyro5\\serializers.py:290\u001b[39m, in \u001b[36mSerpentSerializer.loads\u001b[39m\u001b[34m(self, data)\u001b[39m\n\u001b[32m    289\u001b[39m \u001b[38;5;28;01mdef\u001b[39;00m\u001b[38;5;250m \u001b[39m\u001b[34mloads\u001b[39m(\u001b[38;5;28mself\u001b[39m, data):\n\u001b[32m--> \u001b[39m\u001b[32m290\u001b[39m     \u001b[38;5;28;01mreturn\u001b[39;00m \u001b[38;5;28mself\u001b[39m.recreate_classes(\u001b[43mserpent\u001b[49m\u001b[43m.\u001b[49m\u001b[43mloads\u001b[49m\u001b[43m(\u001b[49m\u001b[43mdata\u001b[49m\u001b[43m)\u001b[49m)\n",
      "\u001b[36mFile \u001b[39m\u001b[32mc:\\Users\\oir-user\\Desktop\\GIT\\sensor-testing-control-server\\.conda\\Lib\\site-packages\\serpent.py:90\u001b[39m, in \u001b[36mloads\u001b[39m\u001b[34m(serialized_bytes)\u001b[39m\n\u001b[32m     88\u001b[39m \u001b[38;5;28;01mtry\u001b[39;00m:\n\u001b[32m     89\u001b[39m     gc.disable()\n\u001b[32m---> \u001b[39m\u001b[32m90\u001b[39m     \u001b[38;5;28;01mreturn\u001b[39;00m \u001b[43mast\u001b[49m\u001b[43m.\u001b[49m\u001b[43mliteral_eval\u001b[49m\u001b[43m(\u001b[49m\u001b[43mserialized\u001b[49m\u001b[43m)\u001b[49m\n\u001b[32m     91\u001b[39m \u001b[38;5;28;01mfinally\u001b[39;00m:\n\u001b[32m     92\u001b[39m     gc.enable()\n",
      "\u001b[36mFile \u001b[39m\u001b[32mc:\\Users\\oir-user\\Desktop\\GIT\\sensor-testing-control-server\\.conda\\Lib\\ast.py:110\u001b[39m, in \u001b[36mliteral_eval\u001b[39m\u001b[34m(node_or_string)\u001b[39m\n\u001b[32m    108\u001b[39m                 \u001b[38;5;28;01mreturn\u001b[39;00m left - right\n\u001b[32m    109\u001b[39m     \u001b[38;5;28;01mreturn\u001b[39;00m _convert_signed_num(node)\n\u001b[32m--> \u001b[39m\u001b[32m110\u001b[39m \u001b[38;5;28;01mreturn\u001b[39;00m \u001b[43m_convert\u001b[49m\u001b[43m(\u001b[49m\u001b[43mnode_or_string\u001b[49m\u001b[43m)\u001b[49m\n",
      "\u001b[36mFile \u001b[39m\u001b[32mc:\\Users\\oir-user\\Desktop\\GIT\\sensor-testing-control-server\\.conda\\Lib\\ast.py:88\u001b[39m, in \u001b[36mliteral_eval.<locals>._convert\u001b[39m\u001b[34m(node)\u001b[39m\n\u001b[32m     86\u001b[39m     \u001b[38;5;28;01mreturn\u001b[39;00m node.value\n\u001b[32m     87\u001b[39m \u001b[38;5;28;01melif\u001b[39;00m \u001b[38;5;28misinstance\u001b[39m(node, Tuple):\n\u001b[32m---> \u001b[39m\u001b[32m88\u001b[39m     \u001b[38;5;28;01mreturn\u001b[39;00m \u001b[38;5;28mtuple\u001b[39m(\u001b[38;5;28mmap\u001b[39m(_convert, node.elts))\n\u001b[32m     89\u001b[39m \u001b[38;5;28;01melif\u001b[39;00m \u001b[38;5;28misinstance\u001b[39m(node, List):\n\u001b[32m     90\u001b[39m     \u001b[38;5;28;01mreturn\u001b[39;00m \u001b[38;5;28mlist\u001b[39m(\u001b[38;5;28mmap\u001b[39m(_convert, node.elts))\n",
      "\u001b[36mFile \u001b[39m\u001b[32mc:\\Users\\oir-user\\Desktop\\GIT\\sensor-testing-control-server\\.conda\\Lib\\ast.py:109\u001b[39m, in \u001b[36mliteral_eval.<locals>._convert\u001b[39m\u001b[34m(node)\u001b[39m\n\u001b[32m    107\u001b[39m         \u001b[38;5;28;01melse\u001b[39;00m:\n\u001b[32m    108\u001b[39m             \u001b[38;5;28;01mreturn\u001b[39;00m left - right\n\u001b[32m--> \u001b[39m\u001b[32m109\u001b[39m \u001b[38;5;28;01mreturn\u001b[39;00m \u001b[43m_convert_signed_num\u001b[49m\u001b[43m(\u001b[49m\u001b[43mnode\u001b[49m\u001b[43m)\u001b[49m\n",
      "\u001b[36mFile \u001b[39m\u001b[32mc:\\Users\\oir-user\\Desktop\\GIT\\sensor-testing-control-server\\.conda\\Lib\\ast.py:83\u001b[39m, in \u001b[36mliteral_eval.<locals>._convert_signed_num\u001b[39m\u001b[34m(node)\u001b[39m\n\u001b[32m     81\u001b[39m     \u001b[38;5;28;01melse\u001b[39;00m:\n\u001b[32m     82\u001b[39m         \u001b[38;5;28;01mreturn\u001b[39;00m - operand\n\u001b[32m---> \u001b[39m\u001b[32m83\u001b[39m \u001b[38;5;28;01mreturn\u001b[39;00m \u001b[43m_convert_num\u001b[49m\u001b[43m(\u001b[49m\u001b[43mnode\u001b[49m\u001b[43m)\u001b[49m\n",
      "\u001b[36mFile \u001b[39m\u001b[32mc:\\Users\\oir-user\\Desktop\\GIT\\sensor-testing-control-server\\.conda\\Lib\\ast.py:74\u001b[39m, in \u001b[36mliteral_eval.<locals>._convert_num\u001b[39m\u001b[34m(node)\u001b[39m\n\u001b[32m     72\u001b[39m \u001b[38;5;28;01mdef\u001b[39;00m\u001b[38;5;250m \u001b[39m\u001b[34m_convert_num\u001b[39m(node):\n\u001b[32m     73\u001b[39m     \u001b[38;5;28;01mif\u001b[39;00m \u001b[38;5;129;01mnot\u001b[39;00m \u001b[38;5;28misinstance\u001b[39m(node, Constant) \u001b[38;5;129;01mor\u001b[39;00m \u001b[38;5;28mtype\u001b[39m(node.value) \u001b[38;5;129;01mnot\u001b[39;00m \u001b[38;5;129;01min\u001b[39;00m (\u001b[38;5;28mint\u001b[39m, \u001b[38;5;28mfloat\u001b[39m, \u001b[38;5;28mcomplex\u001b[39m):\n\u001b[32m---> \u001b[39m\u001b[32m74\u001b[39m         \u001b[43m_raise_malformed_node\u001b[49m\u001b[43m(\u001b[49m\u001b[43mnode\u001b[49m\u001b[43m)\u001b[49m\n\u001b[32m     75\u001b[39m     \u001b[38;5;28;01mreturn\u001b[39;00m node.value\n",
      "\u001b[36mFile \u001b[39m\u001b[32mc:\\Users\\oir-user\\Desktop\\GIT\\sensor-testing-control-server\\.conda\\Lib\\ast.py:71\u001b[39m, in \u001b[36mliteral_eval.<locals>._raise_malformed_node\u001b[39m\u001b[34m(node)\u001b[39m\n\u001b[32m     69\u001b[39m \u001b[38;5;28;01mif\u001b[39;00m lno := \u001b[38;5;28mgetattr\u001b[39m(node, \u001b[33m'\u001b[39m\u001b[33mlineno\u001b[39m\u001b[33m'\u001b[39m, \u001b[38;5;28;01mNone\u001b[39;00m):\n\u001b[32m     70\u001b[39m     msg += \u001b[33mf\u001b[39m\u001b[33m'\u001b[39m\u001b[33m on line \u001b[39m\u001b[38;5;132;01m{\u001b[39;00mlno\u001b[38;5;132;01m}\u001b[39;00m\u001b[33m'\u001b[39m\n\u001b[32m---> \u001b[39m\u001b[32m71\u001b[39m \u001b[38;5;28;01mraise\u001b[39;00m \u001b[38;5;167;01mValueError\u001b[39;00m(msg + \u001b[33mf\u001b[39m\u001b[33m'\u001b[39m\u001b[33m: \u001b[39m\u001b[38;5;132;01m{\u001b[39;00mnode\u001b[38;5;132;01m!r}\u001b[39;00m\u001b[33m'\u001b[39m)\n",
      "\u001b[31mValueError\u001b[39m: malformed node or string on line 2: <ast.Call object at 0x000002190C45B340>"
     ]
    }
   ],
   "source": []
  }
 ],
 "metadata": {
  "kernelspec": {
   "display_name": "Python 3",
   "language": "python",
   "name": "python3"
  },
  "language_info": {
   "codemirror_mode": {
    "name": "ipython",
    "version": 3
   },
   "file_extension": ".py",
   "mimetype": "text/x-python",
   "name": "python",
   "nbconvert_exporter": "python",
   "pygments_lexer": "ipython3",
   "version": "3.11.13"
  }
 },
 "nbformat": 4,
 "nbformat_minor": 5
}
