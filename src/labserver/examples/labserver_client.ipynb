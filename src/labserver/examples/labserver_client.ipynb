{
 "cells": [
  {
   "cell_type": "markdown",
   "id": "ba9373fb",
   "metadata": {},
   "source": [
    "# Communicating with the lab server"
   ]
  },
  {
   "cell_type": "code",
   "execution_count": 5,
   "id": "631cf155",
   "metadata": {},
   "outputs": [
    {
     "name": "stdout",
     "output_type": "stream",
     "text": [
      "{\n",
      "  \"wheels\": {\n",
      "    \"fw1\": {\n",
      "      \"serial\": \"TP1296219-5150\",\n",
      "      \"connected\": true,\n",
      "      \"position\": 2,\n",
      "      \"current_filter\": \"FBH 1050-10\",\n",
      "      \"type\": \"bandpass\"\n",
      "    },\n",
      "    \"fw2\": {\n",
      "      \"serial\": \"TP1296219-5149\",\n",
      "      \"connected\": false,\n",
      "      \"position\": null,\n",
      "      \"current_filter\": null,\n",
      "      \"type\": \"bandpass\"\n",
      "    },\n",
      "    \"fw3\": {\n",
      "      \"serial\": \"150414-041498\",\n",
      "      \"connected\": true,\n",
      "      \"position\": 1,\n",
      "      \"current_filter\": \"EMPTY\",\n",
      "      \"type\": \"bandpass\"\n",
      "    },\n",
      "    \"fw4\": {\n",
      "      \"serial\": \"150824-011498\",\n",
      "      \"connected\": false,\n",
      "      \"position\": null,\n",
      "      \"current_filter\": null,\n",
      "      \"type\": \"nd\"\n",
      "    }\n",
      "  },\n",
      "  \"shutter\": {\n",
      "    \"connected\": true,\n",
      "    \"state\": \"closed\",\n",
      "    \"line\": \"FIO4\",\n",
      "    \"address\": \"ANY\"\n",
      "  },\n",
      "  \"ammeter_A\": null,\n",
      "  \"offline_wheels\": [\n",
      "    \"fw2\",\n",
      "    \"fw4\"\n",
      "  ],\n",
      "  \"online_wheels\": [\n",
      "    \"fw1\",\n",
      "    \"fw3\"\n",
      "  ]\n",
      "}\n",
      "available wheels: ['fw1', 'fw3']\n"
     ]
    }
   ],
   "source": [
    "import Pyro5.api as pyro\n",
    "import json\n",
    "\n",
    "srv = pyro.Proxy(\"PYRO:LabServer@localhost:50000\")\n",
    "print(json.dumps(srv.status(), indent = 2)     )       # full snapshot\n",
    "\n",
    "print(f\"available wheels: {srv.status()['online_wheels']}\")\n",
    "\n"
   ]
  },
  {
   "cell_type": "code",
   "execution_count": 6,
   "id": "342fe987",
   "metadata": {},
   "outputs": [
    {
     "name": "stdout",
     "output_type": "stream",
     "text": [
      "moving to 1250 nm bandpass filter\n",
      "{\n",
      "  \"serial\": \"TP1296219-5150\",\n",
      "  \"connected\": true,\n",
      "  \"position\": 4,\n",
      "  \"current_filter\": \"FBH 1250-10\",\n",
      "  \"type\": \"bandpass\"\n",
      "}\n",
      "moving to the 1050 nm bandpass filter\n",
      "{\n",
      "  \"serial\": \"TP1296219-5150\",\n",
      "  \"connected\": true,\n",
      "  \"position\": 2,\n",
      "  \"current_filter\": \"FBH 1050-10\",\n",
      "  \"type\": \"bandpass\"\n",
      "}\n"
     ]
    }
   ],
   "source": [
    "print(\"moving to 1250 nm bandpass filter\")\n",
    "srv.select_bandpass(1250)      # 1250 nm in path\n",
    "print(json.dumps(srv.wheel_status('fw1'), indent = 2))\n",
    "\n",
    "print(\"moving to the 1050 nm bandpass filter\")\n",
    "srv.select_bandpass(1050)      # 1050 nm in path\n",
    "print(json.dumps(srv.wheel_status('fw1'), indent = 2))\n"
   ]
  },
  {
   "cell_type": "code",
   "execution_count": 7,
   "id": "a7606522",
   "metadata": {},
   "outputs": [
    {
     "name": "stdout",
     "output_type": "stream",
     "text": [
      "opening the shutter\n",
      "{'connected': True, 'state': 'open', 'line': 'FIO4', 'address': 'ANY'}\n",
      "closing the shutter\n",
      "{'connected': True, 'state': 'closed', 'line': 'FIO4', 'address': 'ANY'}\n"
     ]
    }
   ],
   "source": [
    "# open and close the shutter\n",
    "print(\"opening the shutter\")\n",
    "srv.shutter(\"open\")\n",
    "print(srv.status()[\"shutter\"])\n",
    "\n",
    "print(\"closing the shutter\")\n",
    "srv.shutter(\"close\")\n",
    "print(srv.status()[\"shutter\"])"
   ]
  },
  {
   "cell_type": "code",
   "execution_count": 8,
   "id": "fbf541a7",
   "metadata": {},
   "outputs": [
    {
     "ename": "KeyError",
     "evalue": "'No ND filter ≈1.0 (±0.05)'",
     "output_type": "error",
     "traceback": [
      "\u001b[31m---------------------------------------------------------------------------\u001b[39m",
      "\u001b[31mKeyError\u001b[39m                                  Traceback (most recent call last)",
      "\u001b[36mCell\u001b[39m\u001b[36m \u001b[39m\u001b[32mIn[8]\u001b[39m\u001b[32m, line 3\u001b[39m\n\u001b[32m      1\u001b[39m              \u001b[38;5;66;03m# whole-rack snapshot\u001b[39;00m\n\u001b[32m----> \u001b[39m\u001b[32m3\u001b[39m \u001b[43msrv\u001b[49m\u001b[43m.\u001b[49m\u001b[43mset_nd\u001b[49m\u001b[43m(\u001b[49m\u001b[32;43m1.0\u001b[39;49m\u001b[43m)\u001b[49m        \u001b[38;5;66;03m# moves ND wheel to the 'ND 1.0' slot\u001b[39;00m\n\u001b[32m      4\u001b[39m \u001b[38;5;28mprint\u001b[39m(srv.status())\n",
      "\u001b[36mFile \u001b[39m\u001b[32mc:\\Users\\oir-user\\Desktop\\GIT\\sensor-testing-control-server\\.conda\\Lib\\site-packages\\Pyro5\\client.py:510\u001b[39m, in \u001b[36m_RemoteMethod.__call__\u001b[39m\u001b[34m(self, *args, **kwargs)\u001b[39m\n\u001b[32m    508\u001b[39m \u001b[38;5;28;01mfor\u001b[39;00m attempt \u001b[38;5;129;01min\u001b[39;00m \u001b[38;5;28mrange\u001b[39m(\u001b[38;5;28mself\u001b[39m.__max_retries + \u001b[32m1\u001b[39m):\n\u001b[32m    509\u001b[39m     \u001b[38;5;28;01mtry\u001b[39;00m:\n\u001b[32m--> \u001b[39m\u001b[32m510\u001b[39m         \u001b[38;5;28;01mreturn\u001b[39;00m \u001b[38;5;28;43mself\u001b[39;49m\u001b[43m.\u001b[49m\u001b[43m__send\u001b[49m\u001b[43m(\u001b[49m\u001b[38;5;28;43mself\u001b[39;49m\u001b[43m.\u001b[49m\u001b[43m__name\u001b[49m\u001b[43m,\u001b[49m\u001b[43m \u001b[49m\u001b[43margs\u001b[49m\u001b[43m,\u001b[49m\u001b[43m \u001b[49m\u001b[43mkwargs\u001b[49m\u001b[43m)\u001b[49m\n\u001b[32m    511\u001b[39m     \u001b[38;5;28;01mexcept\u001b[39;00m (errors.ConnectionClosedError, errors.TimeoutError):\n\u001b[32m    512\u001b[39m         \u001b[38;5;66;03m# only retry for recoverable network errors\u001b[39;00m\n\u001b[32m    513\u001b[39m         \u001b[38;5;28;01mif\u001b[39;00m attempt >= \u001b[38;5;28mself\u001b[39m.__max_retries:\n\u001b[32m    514\u001b[39m             \u001b[38;5;66;03m# last attempt, raise the exception\u001b[39;00m\n",
      "\u001b[36mFile \u001b[39m\u001b[32mc:\\Users\\oir-user\\Desktop\\GIT\\sensor-testing-control-server\\.conda\\Lib\\site-packages\\Pyro5\\client.py:275\u001b[39m, in \u001b[36mProxy._pyroInvoke\u001b[39m\u001b[34m(self, methodname, vargs, kwargs, flags, objectId)\u001b[39m\n\u001b[32m    273\u001b[39m     \u001b[38;5;28;01mreturn\u001b[39;00m _StreamResultIterator(streamId, \u001b[38;5;28mself\u001b[39m)\n\u001b[32m    274\u001b[39m \u001b[38;5;28;01mif\u001b[39;00m msg.flags & protocol.FLAGS_EXCEPTION:\n\u001b[32m--> \u001b[39m\u001b[32m275\u001b[39m     \u001b[38;5;28;01mraise\u001b[39;00m data  \u001b[38;5;66;03m# if you see this in your traceback, you should probably inspect the remote traceback as well\u001b[39;00m\n\u001b[32m    276\u001b[39m \u001b[38;5;28;01melse\u001b[39;00m:\n\u001b[32m    277\u001b[39m     \u001b[38;5;28;01mreturn\u001b[39;00m data\n",
      "\u001b[31mKeyError\u001b[39m: 'No ND filter ≈1.0 (±0.05)'"
     ]
    }
   ],
   "source": [
    "             # whole-rack snapshot\n",
    "\n",
    "srv.set_nd(1.0)        # moves ND wheel to the 'ND 1.0' slot\n",
    "print(srv.status())\n"
   ]
  }
 ],
 "metadata": {
  "kernelspec": {
   "display_name": "Python 3",
   "language": "python",
   "name": "python3"
  },
  "language_info": {
   "codemirror_mode": {
    "name": "ipython",
    "version": 3
   },
   "file_extension": ".py",
   "mimetype": "text/x-python",
   "name": "python",
   "nbconvert_exporter": "python",
   "pygments_lexer": "ipython3",
   "version": "3.11.13"
  }
 },
 "nbformat": 4,
 "nbformat_minor": 5
}
