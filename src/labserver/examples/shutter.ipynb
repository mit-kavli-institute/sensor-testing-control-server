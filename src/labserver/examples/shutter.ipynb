{
 "cells": [
  {
   "cell_type": "markdown",
   "id": "e8efd140",
   "metadata": {},
   "source": [
    "Example Code for Controlling the Shutter Via the Labjack\n"
   ]
  },
  {
   "cell_type": "code",
   "execution_count": 16,
   "id": "361f2fe7",
   "metadata": {},
   "outputs": [
    {
     "name": "stdout",
     "output_type": "stream",
     "text": [
      "Setting FIO4 to 1\n"
     ]
    }
   ],
   "source": [
    "from labserver.devices.labjack import LabJackT4Shutter \n",
    "\n",
    "shutter = LabJackT4Shutter()\n",
    "shutter.open()"
   ]
  },
  {
   "cell_type": "code",
   "execution_count": 19,
   "id": "9d7a93bc",
   "metadata": {},
   "outputs": [
    {
     "name": "stdout",
     "output_type": "stream",
     "text": [
      "Setting FIO4 to 0\n",
      "Shutter status: {'connected': True, 'state': 'closed', 'line': 'FIO4', 'address': 'ANY'}\n"
     ]
    }
   ],
   "source": [
    "shutter.close()\n",
    "# print the status of the shutter\n",
    "print(f\"Shutter status: {shutter.status()}\")"
   ]
  },
  {
   "cell_type": "code",
   "execution_count": 18,
   "id": "ca5e3fd5",
   "metadata": {},
   "outputs": [
    {
     "name": "stdout",
     "output_type": "stream",
     "text": [
      "Setting FIO4 to 1\n",
      "Shutter status: {'connected': True, 'state': 'open', 'line': 'FIO4', 'address': 'ANY'}\n"
     ]
    }
   ],
   "source": [
    "shutter.open()\n",
    "print(f\"Shutter status: {shutter.status()}\")"
   ]
  }
 ],
 "metadata": {
  "kernelspec": {
   "display_name": "Python 3",
   "language": "python",
   "name": "python3"
  },
  "language_info": {
   "codemirror_mode": {
    "name": "ipython",
    "version": 3
   },
   "file_extension": ".py",
   "mimetype": "text/x-python",
   "name": "python",
   "nbconvert_exporter": "python",
   "pygments_lexer": "ipython3",
   "version": "3.11.13"
  }
 },
 "nbformat": 4,
 "nbformat_minor": 5
}
