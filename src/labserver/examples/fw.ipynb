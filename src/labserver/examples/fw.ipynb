{
 "cells": [
  {
   "cell_type": "markdown",
   "id": "52b3ef3d",
   "metadata": {},
   "source": [
    "Example code for running the filter wheel"
   ]
  },
  {
   "cell_type": "code",
   "execution_count": 1,
   "id": "b2746b03",
   "metadata": {},
   "outputs": [
    {
     "name": "stdout",
     "output_type": "stream",
     "text": [
      "C:\\Users\\oir-user\\Desktop\\GIT\\sensor-testing-control-server\\src\\labserver\\devices\\FilterWheel102_win64.dll\n",
      "['TP1296219-5150', '150414-041498']\n",
      "Using filter wheel with serial number: TP1296219-5150\n",
      "-1\n",
      "{}\n",
      "{'serial': 'TP1296219-5150', 'connected': False, 'position': None, 'current_filter': None, 'type': 'unknown'}\n"
     ]
    }
   ],
   "source": [
    "from labserver.devices.thorlabs_fw import FilterWheel\n",
    "from labserver.config import CONFIG_DIR\n",
    "\n",
    "# Low‑level tinkering\n",
    "print(FilterWheel.list_devices())\n",
    "sn = FilterWheel.list_devices()[0]\n",
    "print(f\"Using filter wheel with serial number: {sn}\")\n",
    "h = FilterWheel.open_device(sn)\n",
    "print(FilterWheel.get_position_raw(h))\n",
    "FilterWheel.close_device(h)\n",
    "\n",
    "# High‑level object\n",
    "wheel = FilterWheel(serial=sn)\n",
    "\n",
    "# get the filters in the wheel:\n",
    "filters = wheel.list_filters()\n",
    "print(filters)\n",
    "with wheel:\n",
    "    wheel.move_to(6)\n",
    "print(wheel.status())"
   ]
  },
  {
   "cell_type": "code",
   "execution_count": 8,
   "id": "01f8735a",
   "metadata": {},
   "outputs": [
    {
     "name": "stdout",
     "output_type": "stream",
     "text": [
      "Config directory: C:\\Users\\oir-user\\Desktop\\GIT\\sensor-testing-control-server\\src\\labserver\\config\n",
      "fw1: 1 --> EMPTY\n",
      "fw2: 1 --> EMPTY\n",
      "fw1: 4 --> FBH 1250-10\n",
      "fw2: 4 --> EMPTY\n"
     ]
    }
   ],
   "source": [
    "# load the filter wheel from the config file\n",
    "import os\n",
    "from labserver.devices.thorlabs_fw import FilterWheel, load_wheels_from_yaml\n",
    "from labserver.config import CONFIG_DIR\n",
    "\n",
    "print(f\"Config directory: {CONFIG_DIR}\")\n",
    "wheels, index = load_wheels_from_yaml(os.path.join(CONFIG_DIR, \"filter_config.yaml\"))\n",
    "# connect to all the wheels\n",
    "for wheel in wheels.values():\n",
    "    wheel.connect()\n",
    "#print(index[\"fbh 1250-10\"])   # → [('fw1', 4)]\n",
    "\n",
    "# move the wheels to pos 1\n",
    "wheels[\"fw1\"].move_to(1)\n",
    "wheels[\"fw2\"].move_to(1)\n",
    "\n",
    "# print the status of all wheels\n",
    "for name, wheel in wheels.items():\n",
    "    print(f\"{name}: {wheel.status()['position']} --> {wheel.status()['current_filter']}\")\n",
    "\n",
    "# move the wheels to pos 4\n",
    "wheels[\"fw1\"].move_to(4)\n",
    "wheels[\"fw2\"].move_to(4)\n",
    "\n",
    "# print the status of all wheels\n",
    "for name, wheel in wheels.items():\n",
    "    print(f\"{name}: {wheel.status()['position']} --> {wheel.status()['current_filter']}\")\n",
    "\n",
    "# disconnect all the wheels\n",
    "for wheel in wheels.values():\n",
    "    wheel.disconnect()  \n"
   ]
  },
  {
   "cell_type": "code",
   "execution_count": null,
   "id": "0ea6505b",
   "metadata": {},
   "outputs": [],
   "source": []
  },
  {
   "cell_type": "code",
   "execution_count": null,
   "id": "4d6e39a2",
   "metadata": {},
   "outputs": [],
   "source": []
  },
  {
   "cell_type": "code",
   "execution_count": null,
   "id": "4adde1b6",
   "metadata": {},
   "outputs": [],
   "source": []
  }
 ],
 "metadata": {
  "kernelspec": {
   "display_name": "Python 3",
   "language": "python",
   "name": "python3"
  },
  "language_info": {
   "codemirror_mode": {
    "name": "ipython",
    "version": 3
   },
   "file_extension": ".py",
   "mimetype": "text/x-python",
   "name": "python",
   "nbconvert_exporter": "python",
   "pygments_lexer": "ipython3",
   "version": "3.11.13"
  }
 },
 "nbformat": 4,
 "nbformat_minor": 5
}
