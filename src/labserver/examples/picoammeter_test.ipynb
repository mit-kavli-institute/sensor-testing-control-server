{
 "cells": [
  {
   "cell_type": "code",
   "execution_count": null,
   "id": "a170716b",
   "metadata": {},
   "outputs": [
    {
     "ename": "SerialException",
     "evalue": "could not open port 'COM7': PermissionError(13, 'Access is denied.', None, 5)",
     "output_type": "error",
     "traceback": [
      "\u001b[31m---------------------------------------------------------------------------\u001b[39m",
      "\u001b[31mSerialException\u001b[39m                           Traceback (most recent call last)",
      "\u001b[36mCell\u001b[39m\u001b[36m \u001b[39m\u001b[32mIn[1]\u001b[39m\u001b[32m, line 16\u001b[39m\n\u001b[32m     13\u001b[39m     \u001b[38;5;28;01mreturn\u001b[39;00m ser.readline().decode().strip()\n\u001b[32m     15\u001b[39m \u001b[38;5;66;03m# Open serial connection\u001b[39;00m\n\u001b[32m---> \u001b[39m\u001b[32m16\u001b[39m ser = \u001b[43mserial\u001b[49m\u001b[43m.\u001b[49m\u001b[43mSerial\u001b[49m\u001b[43m(\u001b[49m\n\u001b[32m     17\u001b[39m \u001b[43m    \u001b[49m\u001b[43mport\u001b[49m\u001b[43m=\u001b[49m\u001b[33;43m'\u001b[39;49m\u001b[33;43mCOM7\u001b[39;49m\u001b[33;43m'\u001b[39;49m\u001b[43m,\u001b[49m\u001b[43m         \u001b[49m\u001b[38;5;66;43;03m# Replace with your actual port\u001b[39;49;00m\n\u001b[32m     18\u001b[39m \u001b[43m    \u001b[49m\u001b[43mbaudrate\u001b[49m\u001b[43m=\u001b[49m\u001b[32;43m9600\u001b[39;49m\u001b[43m,\u001b[49m\n\u001b[32m     19\u001b[39m \u001b[43m    \u001b[49m\u001b[43mbytesize\u001b[49m\u001b[43m=\u001b[49m\u001b[43mserial\u001b[49m\u001b[43m.\u001b[49m\u001b[43mEIGHTBITS\u001b[49m\u001b[43m,\u001b[49m\n\u001b[32m     20\u001b[39m \u001b[43m    \u001b[49m\u001b[43mparity\u001b[49m\u001b[43m=\u001b[49m\u001b[43mserial\u001b[49m\u001b[43m.\u001b[49m\u001b[43mPARITY_NONE\u001b[49m\u001b[43m,\u001b[49m\n\u001b[32m     21\u001b[39m \u001b[43m    \u001b[49m\u001b[43mstopbits\u001b[49m\u001b[43m=\u001b[49m\u001b[43mserial\u001b[49m\u001b[43m.\u001b[49m\u001b[43mSTOPBITS_ONE\u001b[49m\u001b[43m,\u001b[49m\n\u001b[32m     22\u001b[39m \u001b[43m    \u001b[49m\u001b[43mtimeout\u001b[49m\u001b[43m=\u001b[49m\u001b[32;43m2\u001b[39;49m\u001b[43m,\u001b[49m\n\u001b[32m     23\u001b[39m \u001b[43m    \u001b[49m\u001b[43mxonxoff\u001b[49m\u001b[43m=\u001b[49m\u001b[38;5;28;43;01mFalse\u001b[39;49;00m\u001b[43m,\u001b[49m\n\u001b[32m     24\u001b[39m \u001b[43m    \u001b[49m\u001b[43mrtscts\u001b[49m\u001b[43m=\u001b[49m\u001b[38;5;28;43;01mFalse\u001b[39;49;00m\u001b[43m,\u001b[49m\n\u001b[32m     25\u001b[39m \u001b[43m    \u001b[49m\u001b[43mdsrdtr\u001b[49m\u001b[43m=\u001b[49m\u001b[38;5;28;43;01mFalse\u001b[39;49;00m\n\u001b[32m     26\u001b[39m \u001b[43m)\u001b[49m\n\u001b[32m     28\u001b[39m \u001b[38;5;28;01mdef\u001b[39;00m\u001b[38;5;250m \u001b[39m\u001b[34minit_cmds\u001b[39m(ser):\n\u001b[32m     29\u001b[39m     \u001b[38;5;66;03m# Reset and configure instrument\u001b[39;00m\n\u001b[32m     30\u001b[39m     \u001b[38;5;28mprint\u001b[39m(query(ser, \u001b[33m'\u001b[39m\u001b[33m*IDN?\u001b[39m\u001b[33m'\u001b[39m))\n",
      "\u001b[36mFile \u001b[39m\u001b[32mc:\\Users\\oir-user\\Desktop\\GIT\\sensor-testing-control-server\\.conda\\Lib\\site-packages\\serial\\serialwin32.py:33\u001b[39m, in \u001b[36mSerial.__init__\u001b[39m\u001b[34m(self, *args, **kwargs)\u001b[39m\n\u001b[32m     31\u001b[39m \u001b[38;5;28mself\u001b[39m._overlapped_read = \u001b[38;5;28;01mNone\u001b[39;00m\n\u001b[32m     32\u001b[39m \u001b[38;5;28mself\u001b[39m._overlapped_write = \u001b[38;5;28;01mNone\u001b[39;00m\n\u001b[32m---> \u001b[39m\u001b[32m33\u001b[39m \u001b[38;5;28;43msuper\u001b[39;49m\u001b[43m(\u001b[49m\u001b[43mSerial\u001b[49m\u001b[43m,\u001b[49m\u001b[43m \u001b[49m\u001b[38;5;28;43mself\u001b[39;49m\u001b[43m)\u001b[49m\u001b[43m.\u001b[49m\u001b[34;43m__init__\u001b[39;49m\u001b[43m(\u001b[49m\u001b[43m*\u001b[49m\u001b[43margs\u001b[49m\u001b[43m,\u001b[49m\u001b[43m \u001b[49m\u001b[43m*\u001b[49m\u001b[43m*\u001b[49m\u001b[43mkwargs\u001b[49m\u001b[43m)\u001b[49m\n",
      "\u001b[36mFile \u001b[39m\u001b[32mc:\\Users\\oir-user\\Desktop\\GIT\\sensor-testing-control-server\\.conda\\Lib\\site-packages\\serial\\serialutil.py:244\u001b[39m, in \u001b[36mSerialBase.__init__\u001b[39m\u001b[34m(self, port, baudrate, bytesize, parity, stopbits, timeout, xonxoff, rtscts, write_timeout, dsrdtr, inter_byte_timeout, exclusive, **kwargs)\u001b[39m\n\u001b[32m    241\u001b[39m     \u001b[38;5;28;01mraise\u001b[39;00m \u001b[38;5;167;01mValueError\u001b[39;00m(\u001b[33m'\u001b[39m\u001b[33munexpected keyword arguments: \u001b[39m\u001b[38;5;132;01m{!r}\u001b[39;00m\u001b[33m'\u001b[39m.format(kwargs))\n\u001b[32m    243\u001b[39m \u001b[38;5;28;01mif\u001b[39;00m port \u001b[38;5;129;01mis\u001b[39;00m \u001b[38;5;129;01mnot\u001b[39;00m \u001b[38;5;28;01mNone\u001b[39;00m:\n\u001b[32m--> \u001b[39m\u001b[32m244\u001b[39m     \u001b[38;5;28;43mself\u001b[39;49m\u001b[43m.\u001b[49m\u001b[43mopen\u001b[49m\u001b[43m(\u001b[49m\u001b[43m)\u001b[49m\n",
      "\u001b[36mFile \u001b[39m\u001b[32mc:\\Users\\oir-user\\Desktop\\GIT\\sensor-testing-control-server\\.conda\\Lib\\site-packages\\serial\\serialwin32.py:64\u001b[39m, in \u001b[36mSerial.open\u001b[39m\u001b[34m(self)\u001b[39m\n\u001b[32m     62\u001b[39m \u001b[38;5;28;01mif\u001b[39;00m \u001b[38;5;28mself\u001b[39m._port_handle == win32.INVALID_HANDLE_VALUE:\n\u001b[32m     63\u001b[39m     \u001b[38;5;28mself\u001b[39m._port_handle = \u001b[38;5;28;01mNone\u001b[39;00m    \u001b[38;5;66;03m# 'cause __del__ is called anyway\u001b[39;00m\n\u001b[32m---> \u001b[39m\u001b[32m64\u001b[39m     \u001b[38;5;28;01mraise\u001b[39;00m SerialException(\u001b[33m\"\u001b[39m\u001b[33mcould not open port \u001b[39m\u001b[38;5;132;01m{!r}\u001b[39;00m\u001b[33m: \u001b[39m\u001b[38;5;132;01m{!r}\u001b[39;00m\u001b[33m\"\u001b[39m.format(\u001b[38;5;28mself\u001b[39m.portstr, ctypes.WinError()))\n\u001b[32m     66\u001b[39m \u001b[38;5;28;01mtry\u001b[39;00m:\n\u001b[32m     67\u001b[39m     \u001b[38;5;28mself\u001b[39m._overlapped_read = win32.OVERLAPPED()\n",
      "\u001b[31mSerialException\u001b[39m: could not open port 'COM7': PermissionError(13, 'Access is denied.', None, 5)"
     ]
    }
   ],
   "source": [
    "\n",
    "import serial\n",
    "import time\n",
    "import numpy as np\n",
    "import matplotlib.pyplot as plt\n",
    "def send_cmd(ser, cmd):\n",
    "    \"\"\"Send a command and wait a bit\"\"\"\n",
    "    ser.write((cmd + '\\r').encode())\n",
    "    time.sleep(0.1)\n",
    "\n",
    "def query(ser, cmd):\n",
    "    \"\"\"Send a command and read the response\"\"\"\n",
    "    send_cmd(ser, cmd)\n",
    "    return ser.readline().decode().strip()\n",
    "\n",
    "# Open serial connection\n",
    "ser = serial.Serial(\n",
    "    port='COM7',         # Replace with your actual port\n",
    "    baudrate=9600,\n",
    "    bytesize=serial.EIGHTBITS,\n",
    "    parity=serial.PARITY_NONE,\n",
    "    stopbits=serial.STOPBITS_ONE,\n",
    "    timeout=2,\n",
    "    xonxoff=False,\n",
    "    rtscts=False,\n",
    "    dsrdtr=False\n",
    ")\n",
    "\n",
    "def init_cmds(ser):\n",
    "    # Reset and configure instrument\n",
    "    print(query(ser, '*IDN?'))\n",
    "    send_cmd(ser, '*RST')\n",
    "    send_cmd(ser, ':FORM:ELEM READ')\n",
    "    send_cmd(ser, 'TRIG:DEL 0')\n",
    "    send_cmd(ser, 'TRIG:COUNT 1')\n",
    "    send_cmd(ser, 'SENS:CURR:NPLC 6')\n",
    "    send_cmd(ser, 'SENS:CURR:RANG 0.000002')\n",
    "    send_cmd(ser, 'SENS:CURR:RANG:AUTO ON')\n",
    "    send_cmd(ser,\"SYST:ZCOR ON\")\n",
    "    send_cmd(ser, 'SYST:AZER:STAT OFF')\n",
    "    send_cmd(ser, 'DISP:ENAB ON')\n",
    "    send_cmd(ser, ':SYST:ZCH:STAT OFF')\n",
    "\n",
    "    # Wait for settings to take effect\n",
    "    time.sleep(0.5)\n",
    "\n",
    "init_cmds(ser)\n",
    "\n",
    "#417 reads/min with no time.sleep\n",
    "num_of_reads = 256\n",
    "readings = np.zeros(num_of_reads)\n",
    "dt = np.zeros(num_of_reads)\n",
    "starttime = time.time()\n",
    "\n",
    "# Trigger a read and fetch result\n",
    "for i in range(num_of_reads):\n",
    "    time.sleep(0.1)\n",
    "    current = query(ser, 'READ?')\n",
    "    readings[i] = current\n",
    "    dt[i] = time.time() - starttime\n",
    "\n",
    "# Optional: close serial port when done\n",
    "ser.close()\n",
    "plt.scatter(dt, readings*1e9)\n",
    "plt.axhline(np.median(readings)*1e9, color='red', linestyle='--', label='Median Current')\n",
    "plt.axhline(np.mean(readings)*1e9, color='green', linestyle='--', label='Mean Current')\n",
    "plt.xlabel('Time (s)')\n",
    "plt.ylabel('Current (nA)')\n",
    "plt.show()\n"
   ]
  }
 ],
 "metadata": {
  "kernelspec": {
   "display_name": "Python 3",
   "language": "python",
   "name": "python3"
  },
  "language_info": {
   "codemirror_mode": {
    "name": "ipython",
    "version": 3
   },
   "file_extension": ".py",
   "mimetype": "text/x-python",
   "name": "python",
   "nbconvert_exporter": "python",
   "pygments_lexer": "ipython3",
   "version": "3.11.13"
  }
 },
 "nbformat": 4,
 "nbformat_minor": 5
}
