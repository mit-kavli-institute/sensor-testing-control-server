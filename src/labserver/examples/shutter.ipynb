{
 "cells": [
  {
   "cell_type": "markdown",
   "id": "e8efd140",
   "metadata": {},
   "source": [
    "Example Code for Controlling the Shutter Via the Labjack\n"
   ]
  },
  {
   "cell_type": "code",
   "execution_count": 1,
   "id": "361f2fe7",
   "metadata": {},
   "outputs": [],
   "source": [
    "from labserver.devices.labjack import LabJackT4Shutter \n",
    "\n",
    "shutter = LabJackT4Shutter()\n",
    "shutter.open()"
   ]
  },
  {
   "cell_type": "code",
   "execution_count": 2,
   "id": "9d7a93bc",
   "metadata": {},
   "outputs": [],
   "source": [
    "shutter.close()"
   ]
  },
  {
   "cell_type": "code",
   "execution_count": 3,
   "id": "ca5e3fd5",
   "metadata": {},
   "outputs": [],
   "source": [
    "shutter.open()"
   ]
  }
 ],
 "metadata": {
  "kernelspec": {
   "display_name": "Python 3",
   "language": "python",
   "name": "python3"
  },
  "language_info": {
   "codemirror_mode": {
    "name": "ipython",
    "version": 3
   },
   "file_extension": ".py",
   "mimetype": "text/x-python",
   "name": "python",
   "nbconvert_exporter": "python",
   "pygments_lexer": "ipython3",
   "version": "3.11.13"
  }
 },
 "nbformat": 4,
 "nbformat_minor": 5
}
