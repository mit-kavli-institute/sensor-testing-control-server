{
 "cells": [
  {
   "cell_type": "markdown",
   "id": "0440d565",
   "metadata": {},
   "source": [
    "# Set up the Filter Rack\n",
    "Example for communicating with multiple filter wheels"
   ]
  },
  {
   "cell_type": "code",
   "execution_count": 1,
   "id": "0f988942",
   "metadata": {},
   "outputs": [
    {
     "name": "stdout",
     "output_type": "stream",
     "text": [
      "C:\\Users\\oir-user\\Desktop\\GIT\\sensor-testing-control-server\\src\\labserver\\devices\\FilterWheel102_win64.dll\n",
      "{\n",
      "  \"fw1\": {\n",
      "    \"serial\": \"TP1296219-5150\",\n",
      "    \"connected\": true,\n",
      "    \"position\": 4,\n",
      "    \"current_filter\": \"FBH 1250-10\",\n",
      "    \"type\": \"bandpass\"\n",
      "  },\n",
      "  \"fw2\": {\n",
      "    \"serial\": \"TP1296219-5149\",\n",
      "    \"connected\": true,\n",
      "    \"position\": 1,\n",
      "    \"current_filter\": \"EMPTY\",\n",
      "    \"type\": \"bandpass\"\n",
      "  }\n",
      "}\n"
     ]
    }
   ],
   "source": [
    "import os\n",
    "import json\n",
    "from labserver.devices.thorlabs_fw import FilterWheel\n",
    "from labserver.devices.filter_rack import FilterRack\n",
    "from labserver.config import CONFIG_DIR\n",
    "\n",
    "rack = FilterRack.from_yaml(os.path.join(CONFIG_DIR, \"filter_config.yaml\"))\n",
    "rack.select_bandpass(1250)      # put 1250 nm filter in path\n",
    "print(json.dumps(rack.status(), indent=2))\n",
    "\n",
    "\n",
    "\n"
   ]
  },
  {
   "cell_type": "code",
   "execution_count": 2,
   "id": "ba82d303",
   "metadata": {},
   "outputs": [
    {
     "name": "stdout",
     "output_type": "stream",
     "text": [
      "{\n",
      "  \"fw1\": {\n",
      "    \"serial\": \"TP1296219-5150\",\n",
      "    \"connected\": true,\n",
      "    \"position\": 1,\n",
      "    \"current_filter\": \"EMPTY\",\n",
      "    \"type\": \"bandpass\"\n",
      "  },\n",
      "  \"fw2\": {\n",
      "    \"serial\": \"TP1296219-5149\",\n",
      "    \"connected\": true,\n",
      "    \"position\": 2,\n",
      "    \"current_filter\": \"FBH 1560-12\",\n",
      "    \"type\": \"bandpass\"\n",
      "  }\n",
      "}\n"
     ]
    }
   ],
   "source": [
    "# Now move to another filter\n",
    "rack.select_bandpass(1550)      # put 1550 nm filter in path\n",
    "print(json.dumps(rack.status(), indent=2))"
   ]
  }
 ],
 "metadata": {
  "kernelspec": {
   "display_name": "Python 3",
   "language": "python",
   "name": "python3"
  },
  "language_info": {
   "codemirror_mode": {
    "name": "ipython",
    "version": 3
   },
   "file_extension": ".py",
   "mimetype": "text/x-python",
   "name": "python",
   "nbconvert_exporter": "python",
   "pygments_lexer": "ipython3",
   "version": "3.11.13"
  }
 },
 "nbformat": 4,
 "nbformat_minor": 5
}
